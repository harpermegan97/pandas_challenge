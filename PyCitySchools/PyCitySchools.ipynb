{
 "cells": [
  {
   "cell_type": "code",
   "execution_count": 50,
   "id": "5f251aee",
   "metadata": {},
   "outputs": [],
   "source": [
    "import pandas as pd\n",
    "\n",
    "# File to Load (Remember to Change These)\n",
    "school_data_to_load = \"Resources/schools_complete.csv\"\n",
    "student_data_to_load = \"Resources/students_complete.csv\"\n",
    "\n",
    "# Read School and Student Data File and store into Pandas DataFrames\n",
    "school_data = pd.read_csv(school_data_to_load)\n",
    "student_data = pd.read_csv(student_data_to_load)\n",
    "\n",
    "# Combine the data into a single dataset.  \n",
    "school_data_complete = pd.merge(student_data, school_data, how=\"left\", on=[\"school_name\", \"school_name\"])"
   ]
  },
  {
   "cell_type": "code",
   "execution_count": 51,
   "id": "dffb8b54",
   "metadata": {},
   "outputs": [
    {
     "data": {
      "text/plain": [
       "15"
      ]
     },
     "execution_count": 51,
     "metadata": {},
     "output_type": "execute_result"
    }
   ],
   "source": [
    "\n",
    "totalschools = school_data[\"School ID\"].count()\n",
    "totalschools\n"
   ]
  },
  {
   "cell_type": "code",
   "execution_count": 52,
   "id": "b2843ade",
   "metadata": {},
   "outputs": [
    {
     "data": {
      "text/plain": [
       "39170"
      ]
     },
     "execution_count": 52,
     "metadata": {},
     "output_type": "execute_result"
    }
   ],
   "source": [
    "totalstudents = student_data[\"Student ID\"].count()\n",
    "totalstudents"
   ]
  },
  {
   "cell_type": "code",
   "execution_count": 53,
   "id": "6d0dea42",
   "metadata": {},
   "outputs": [
    {
     "data": {
      "text/plain": [
       "24649428"
      ]
     },
     "execution_count": 53,
     "metadata": {},
     "output_type": "execute_result"
    }
   ],
   "source": [
    "totalbudget = school_data[\"budget\"]. sum()\n",
    "totalbudget"
   ]
  },
  {
   "cell_type": "code",
   "execution_count": 54,
   "id": "5f6affbf",
   "metadata": {},
   "outputs": [
    {
     "data": {
      "text/plain": [
       "78.98537145774827"
      ]
     },
     "execution_count": 54,
     "metadata": {},
     "output_type": "execute_result"
    }
   ],
   "source": [
    "avgmathscore = student_data[\"math_score\"].mean()\n",
    "avgmathscore"
   ]
  },
  {
   "cell_type": "code",
   "execution_count": 55,
   "id": "24068499",
   "metadata": {},
   "outputs": [
    {
     "data": {
      "text/plain": [
       "81.87784018381414"
      ]
     },
     "execution_count": 55,
     "metadata": {},
     "output_type": "execute_result"
    }
   ],
   "source": [
    "avgreadscore = student_data[\"reading_score\"].mean()\n",
    "avgreadscore"
   ]
  },
  {
   "cell_type": "code",
   "execution_count": 58,
   "id": "7766d823",
   "metadata": {},
   "outputs": [
    {
     "data": {
      "text/plain": [
       "0.7239213683941792"
      ]
     },
     "execution_count": 58,
     "metadata": {},
     "output_type": "execute_result"
    }
   ],
   "source": [
    "#passing math \n",
    "passedmath = student_data[student_data.math_score > 70]\n",
    "passed_math = passedmath[\"math_score\"].count() / totalstudents\n",
    "passed_math"
   ]
  },
  {
   "cell_type": "code",
   "execution_count": 59,
   "id": "abb8d18a",
   "metadata": {
    "scrolled": true
   },
   "outputs": [
    {
     "data": {
      "text/plain": [
       "0.8297166198621394"
      ]
     },
     "execution_count": 59,
     "metadata": {},
     "output_type": "execute_result"
    }
   ],
   "source": [
    "#passing reading\n",
    "passedread = student_data[student_data.reading_score > 70]\n",
    "passed_read = passedread[\"reading_score\"].count() / totalstudents\n",
    "passed_read"
   ]
  },
  {
   "cell_type": "code",
   "execution_count": 60,
   "id": "51758781",
   "metadata": {},
   "outputs": [
    {
     "data": {
      "text/plain": [
       "23816"
      ]
     },
     "execution_count": 60,
     "metadata": {},
     "output_type": "execute_result"
    }
   ],
   "source": [
    "#overall passing \n",
    "passedboth = student_data[(student_data[\"math_score\"] > 70) & (student_data[\"reading_score\"] > 70)].count()[\"Student ID\"]\n",
    "passedboth"
   ]
  },
  {
   "cell_type": "code",
   "execution_count": 61,
   "id": "de17606c",
   "metadata": {
    "scrolled": true
   },
   "outputs": [
    {
     "data": {
      "text/html": [
       "<div>\n",
       "<style scoped>\n",
       "    .dataframe tbody tr th:only-of-type {\n",
       "        vertical-align: middle;\n",
       "    }\n",
       "\n",
       "    .dataframe tbody tr th {\n",
       "        vertical-align: top;\n",
       "    }\n",
       "\n",
       "    .dataframe thead th {\n",
       "        text-align: right;\n",
       "    }\n",
       "</style>\n",
       "<table border=\"1\" class=\"dataframe\">\n",
       "  <thead>\n",
       "    <tr style=\"text-align: right;\">\n",
       "      <th></th>\n",
       "      <th>totalschools</th>\n",
       "      <th>totalstudents</th>\n",
       "      <th>totalbudget</th>\n",
       "      <th>avgreadscore</th>\n",
       "      <th>passedmath</th>\n",
       "      <th>passedread</th>\n",
       "      <th>passedboth</th>\n",
       "    </tr>\n",
       "  </thead>\n",
       "  <tbody>\n",
       "    <tr>\n",
       "      <th>0</th>\n",
       "      <td>15</td>\n",
       "      <td>39170</td>\n",
       "      <td>24649428</td>\n",
       "      <td>81.87784</td>\n",
       "      <td>0.723921</td>\n",
       "      <td>0.829717</td>\n",
       "      <td>23816</td>\n",
       "    </tr>\n",
       "  </tbody>\n",
       "</table>\n",
       "</div>"
      ],
      "text/plain": [
       "   totalschools  totalstudents  totalbudget  avgreadscore  passedmath  \\\n",
       "0            15          39170     24649428      81.87784    0.723921   \n",
       "\n",
       "   passedread  passedboth  \n",
       "0    0.829717       23816  "
      ]
     },
     "execution_count": 61,
     "metadata": {},
     "output_type": "execute_result"
    }
   ],
   "source": [
    "#data frame for everything above \n",
    "districtdf = pd.DataFrame([\n",
    "    {\"totalschools\": totalschools,\n",
    "    \"totalstudents\" : totalstudents,\n",
    "    \"totalbudget\": totalbudget,\n",
    "    \"avgreadscore\": avgreadscore, \n",
    "    \"avgreadscore\" : avgreadscore,\n",
    "    \"passedmath\" : passed_math,\n",
    "    \"passedread\" : passed_read,\n",
    "    \"passedboth\" : passedboth}\n",
    "])\n",
    "districtdf"
   ]
  },
  {
   "cell_type": "code",
   "execution_count": 5,
   "id": "4ac86407",
   "metadata": {},
   "outputs": [],
   "source": [
    "# School Summary"
   ]
  },
  {
   "cell_type": "code",
   "execution_count": 65,
   "id": "36ef4f34",
   "metadata": {},
   "outputs": [
    {
     "data": {
      "text/plain": [
       "0         Huang High School\n",
       "1      Figueroa High School\n",
       "2       Shelton High School\n",
       "3     Hernandez High School\n",
       "4       Griffin High School\n",
       "5        Wilson High School\n",
       "6       Cabrera High School\n",
       "7        Bailey High School\n",
       "8        Holden High School\n",
       "9          Pena High School\n",
       "10       Wright High School\n",
       "11    Rodriguez High School\n",
       "12      Johnson High School\n",
       "13         Ford High School\n",
       "14       Thomas High School\n",
       "Name: school_name, dtype: object"
      ]
     },
     "execution_count": 65,
     "metadata": {},
     "output_type": "execute_result"
    }
   ],
   "source": [
    "#school name\n",
    "name = school_data[\"school_name\"]\n",
    "name"
   ]
  },
  {
   "cell_type": "code",
   "execution_count": 19,
   "id": "44b33e10",
   "metadata": {},
   "outputs": [
    {
     "data": {
      "text/plain": [
       "0     District\n",
       "1     District\n",
       "2      Charter\n",
       "3     District\n",
       "4      Charter\n",
       "5      Charter\n",
       "6      Charter\n",
       "7     District\n",
       "8      Charter\n",
       "9      Charter\n",
       "10     Charter\n",
       "11    District\n",
       "12    District\n",
       "13    District\n",
       "14     Charter\n",
       "Name: type, dtype: object"
      ]
     },
     "execution_count": 19,
     "metadata": {},
     "output_type": "execute_result"
    }
   ],
   "source": [
    "#School type\n",
    "school_type = school_data[\"type\"]\n",
    "school_type\n"
   ]
  },
  {
   "cell_type": "code",
   "execution_count": 23,
   "id": "b5f497c3",
   "metadata": {},
   "outputs": [
    {
     "data": {
      "text/plain": [
       "39170"
      ]
     },
     "execution_count": 23,
     "metadata": {},
     "output_type": "execute_result"
    }
   ],
   "source": [
    "# Total students\n",
    "student_total = student_data[\"Student ID\"].count()\n",
    "student_total"
   ]
  },
  {
   "cell_type": "code",
   "execution_count": 25,
   "id": "c641fbdd",
   "metadata": {},
   "outputs": [
    {
     "data": {
      "text/plain": [
       "24649428"
      ]
     },
     "execution_count": 25,
     "metadata": {},
     "output_type": "execute_result"
    }
   ],
   "source": [
    "# Total school budget\n",
    "total_budget = school_data[\"budget\"].sum()\n",
    "total_budget"
   ]
  },
  {
   "cell_type": "code",
   "execution_count": 70,
   "id": "4bb732bd",
   "metadata": {},
   "outputs": [
    {
     "data": {
      "text/plain": [
       "school_name\n",
       "Bailey High School       3124928.0\n",
       "Cabrera High School      1081356.0\n",
       "Figueroa High School     1884411.0\n",
       "Ford High School         1763916.0\n",
       "Griffin High School       917500.0\n",
       "Hernandez High School    3022020.0\n",
       "Holden High School        248087.0\n",
       "Huang High School        1910635.0\n",
       "Johnson High School      3094650.0\n",
       "Pena High School          585858.0\n",
       "Rodriguez High School    2547363.0\n",
       "Shelton High School      1056600.0\n",
       "Thomas High School       1043130.0\n",
       "Wilson High School       1319574.0\n",
       "Wright High School       1049400.0\n",
       "Name: budget, dtype: float64"
      ]
     },
     "execution_count": 70,
     "metadata": {},
     "output_type": "execute_result"
    }
   ],
   "source": [
    "# Per student budget\n",
    "per_school_budget = school_data_complete.groupby([\"school_name\"]).mean()[\"budget\"]\n",
    "per_school_budget"
   ]
  },
  {
   "cell_type": "code",
   "execution_count": 27,
   "id": "9c85b015",
   "metadata": {},
   "outputs": [
    {
     "data": {
      "text/plain": [
       "78.98537145774827"
      ]
     },
     "execution_count": 27,
     "metadata": {},
     "output_type": "execute_result"
    }
   ],
   "source": [
    "# Average math score\n",
    "average_math_score = school_data_complete[\"math_score\"].mean()\n",
    "average_math_score"
   ]
  },
  {
   "cell_type": "code",
   "execution_count": 28,
   "id": "757112e7",
   "metadata": {},
   "outputs": [
    {
     "data": {
      "text/plain": [
       "81.87784018381414"
      ]
     },
     "execution_count": 28,
     "metadata": {},
     "output_type": "execute_result"
    }
   ],
   "source": [
    "# Average reading score\n",
    "average_reading_score = school_data_complete[\"reading_score\"].mean()\n",
    "average_reading_score"
   ]
  },
  {
   "cell_type": "code",
   "execution_count": 29,
   "id": "65abfe0c",
   "metadata": {},
   "outputs": [
    {
     "data": {
      "text/plain": [
       "0.7239213683941792"
      ]
     },
     "execution_count": 29,
     "metadata": {},
     "output_type": "execute_result"
    }
   ],
   "source": [
    "# % passing math (the percentage of students who passed math)\n",
    "passedmath = student_data[student_data.math_score > 70]\n",
    "passed_math = passedmath[\"math_score\"].count() / totalstudents\n",
    "passed_math"
   ]
  },
  {
   "cell_type": "code",
   "execution_count": 30,
   "id": "8f92c80e",
   "metadata": {},
   "outputs": [
    {
     "data": {
      "text/plain": [
       "0.8297166198621394"
      ]
     },
     "execution_count": 30,
     "metadata": {},
     "output_type": "execute_result"
    }
   ],
   "source": [
    "# % passing reading (the percentage of students who passed reading)\n",
    "passedread = student_data[student_data.reading_score > 70]\n",
    "passed_read = passedread[\"reading_score\"].count() / totalstudents\n",
    "passed_read"
   ]
  },
  {
   "cell_type": "code",
   "execution_count": 32,
   "id": "c7e9cddd",
   "metadata": {},
   "outputs": [
    {
     "data": {
      "text/plain": [
       "23816"
      ]
     },
     "execution_count": 32,
     "metadata": {},
     "output_type": "execute_result"
    }
   ],
   "source": [
    "# overall passing (the percentage of students who passed math AND reading)\n",
    "passedboth = student_data[(student_data[\"math_score\"] > 70) & (student_data[\"reading_score\"] > 70)].count()[\"Student ID\"]\n",
    "passedboth"
   ]
  },
  {
   "cell_type": "code",
   "execution_count": 72,
   "id": "d70cccea",
   "metadata": {},
   "outputs": [
    {
     "data": {
      "text/html": [
       "<div>\n",
       "<style scoped>\n",
       "    .dataframe tbody tr th:only-of-type {\n",
       "        vertical-align: middle;\n",
       "    }\n",
       "\n",
       "    .dataframe tbody tr th {\n",
       "        vertical-align: top;\n",
       "    }\n",
       "\n",
       "    .dataframe thead th {\n",
       "        text-align: right;\n",
       "    }\n",
       "</style>\n",
       "<table border=\"1\" class=\"dataframe\">\n",
       "  <thead>\n",
       "    <tr style=\"text-align: right;\">\n",
       "      <th></th>\n",
       "      <th>per_school_budget</th>\n",
       "    </tr>\n",
       "  </thead>\n",
       "  <tbody>\n",
       "    <tr>\n",
       "      <th>0</th>\n",
       "      <td>school_name\n",
       "Bailey High School       3124928.0...</td>\n",
       "    </tr>\n",
       "  </tbody>\n",
       "</table>\n",
       "</div>"
      ],
      "text/plain": [
       "                                   per_school_budget\n",
       "0  school_name\n",
       "Bailey High School       3124928.0..."
      ]
     },
     "execution_count": 72,
     "metadata": {},
     "output_type": "execute_result"
    }
   ],
   "source": [
    "#Display school summary \n",
    "\n",
    "Schoolsummarydf = pd.DataFrame([\n",
    "    {\n",
    "       \"name\": name,\n",
    "      \"total_budget\": total_budget,\n",
    "    \"school_type\" : school_type,\n",
    "    \"per_school_budget\": per_school_budget},\n",
    "    \"average_math_score\" : average_math_score,\n",
    "    \"average_reading_score\" : average_reading_score,\n",
    "    \"passed_math\" : passed_math,\n",
    "    \"passed_read\" : passed_read,\n",
    "    \"passedboth\" : passedboth\n",
    "])\n",
    "Schoolsummarydf\n"
   ]
  },
  {
   "cell_type": "code",
   "execution_count": 84,
   "id": "b5bb9c5d",
   "metadata": {},
   "outputs": [
    {
     "data": {
      "text/plain": [
       "school_name            type      budget \n",
       "Bailey High School     District  3124928    4976\n",
       "Cabrera High School    Charter   1081356    1858\n",
       "Figueroa High School   District  1884411    2949\n",
       "Ford High School       District  1763916    2739\n",
       "Griffin High School    Charter   917500     1468\n",
       "Hernandez High School  District  3022020    4635\n",
       "Holden High School     Charter   248087      427\n",
       "Huang High School      District  1910635    2917\n",
       "Johnson High School    District  3094650    4761\n",
       "Pena High School       Charter   585858      962\n",
       "Rodriguez High School  District  2547363    3999\n",
       "Shelton High School    Charter   1056600    1761\n",
       "Thomas High School     Charter   1043130    1635\n",
       "Wilson High School     Charter   1319574    2283\n",
       "Wright High School     Charter   1049400    1800\n",
       "dtype: int64"
      ]
     },
     "execution_count": 84,
     "metadata": {},
     "output_type": "execute_result"
    }
   ],
   "source": [
    "sg = school_data_complete. groupby([\"school_name\", 'type', 'budget']).size()\n",
    "sg\n"
   ]
  },
  {
   "cell_type": "code",
   "execution_count": null,
   "id": "239360ec",
   "metadata": {},
   "outputs": [],
   "source": [
    "# Highest-Performing Schools (by % Overall Passing)"
   ]
  },
  {
   "cell_type": "code",
   "execution_count": 33,
   "id": "9431062e",
   "metadata": {},
   "outputs": [
    {
     "data": {
      "text/plain": [
       "0         Huang High School\n",
       "1      Figueroa High School\n",
       "2       Shelton High School\n",
       "3     Hernandez High School\n",
       "4       Griffin High School\n",
       "5        Wilson High School\n",
       "6       Cabrera High School\n",
       "7        Bailey High School\n",
       "8        Holden High School\n",
       "9          Pena High School\n",
       "10       Wright High School\n",
       "11    Rodriguez High School\n",
       "12      Johnson High School\n",
       "13         Ford High School\n",
       "14       Thomas High School\n",
       "Name: school_name, dtype: object"
      ]
     },
     "execution_count": 33,
     "metadata": {},
     "output_type": "execute_result"
    }
   ],
   "source": [
    "# School name\n",
    "name = school_data[\"school_name\"]\n",
    "name"
   ]
  },
  {
   "cell_type": "code",
   "execution_count": 34,
   "id": "5874dcbf",
   "metadata": {},
   "outputs": [
    {
     "data": {
      "text/plain": [
       "0     District\n",
       "1     District\n",
       "2      Charter\n",
       "3     District\n",
       "4      Charter\n",
       "5      Charter\n",
       "6      Charter\n",
       "7     District\n",
       "8      Charter\n",
       "9      Charter\n",
       "10     Charter\n",
       "11    District\n",
       "12    District\n",
       "13    District\n",
       "14     Charter\n",
       "Name: type, dtype: object"
      ]
     },
     "execution_count": 34,
     "metadata": {},
     "output_type": "execute_result"
    }
   ],
   "source": [
    "# School type\n",
    "school_type = school_data[\"type\"]\n",
    "school_type"
   ]
  },
  {
   "cell_type": "code",
   "execution_count": 36,
   "id": "68d8401e",
   "metadata": {},
   "outputs": [
    {
     "data": {
      "text/plain": [
       "39170"
      ]
     },
     "execution_count": 36,
     "metadata": {},
     "output_type": "execute_result"
    }
   ],
   "source": [
    "# Total students\n",
    "student_total = student_data[\"Student ID\"].count()\n",
    "student_total"
   ]
  },
  {
   "cell_type": "code",
   "execution_count": 37,
   "id": "81e24ad3",
   "metadata": {},
   "outputs": [
    {
     "data": {
      "text/plain": [
       "24649428"
      ]
     },
     "execution_count": 37,
     "metadata": {},
     "output_type": "execute_result"
    }
   ],
   "source": [
    "# Total school budget\n",
    "total_budget = school_data[\"budget\"].sum()\n",
    "total_budget"
   ]
  },
  {
   "cell_type": "code",
   "execution_count": 38,
   "id": "27bf62fa",
   "metadata": {},
   "outputs": [
    {
     "data": {
      "text/plain": [
       "school_name\n",
       "Bailey High School       3124928.0\n",
       "Cabrera High School      1081356.0\n",
       "Figueroa High School     1884411.0\n",
       "Ford High School         1763916.0\n",
       "Griffin High School       917500.0\n",
       "Hernandez High School    3022020.0\n",
       "Holden High School        248087.0\n",
       "Huang High School        1910635.0\n",
       "Johnson High School      3094650.0\n",
       "Pena High School          585858.0\n",
       "Rodriguez High School    2547363.0\n",
       "Shelton High School      1056600.0\n",
       "Thomas High School       1043130.0\n",
       "Wilson High School       1319574.0\n",
       "Wright High School       1049400.0\n",
       "Name: budget, dtype: float64"
      ]
     },
     "execution_count": 38,
     "metadata": {},
     "output_type": "execute_result"
    }
   ],
   "source": [
    "# Per student budget\n",
    "per_school_budget = school_data_complete.groupby([\"school_name\"]).mean()[\"budget\"]\n",
    "per_school_budget"
   ]
  },
  {
   "cell_type": "code",
   "execution_count": null,
   "id": "f4933a41",
   "metadata": {},
   "outputs": [],
   "source": [
    "# Average math score\n",
    "per_school_budget = school_data_complete.groupby([\"school_name\"]).mean()[\"budget\"]\n",
    "per_school_budget"
   ]
  },
  {
   "cell_type": "code",
   "execution_count": null,
   "id": "3ab9c266",
   "metadata": {},
   "outputs": [],
   "source": [
    "# Average reading score\n",
    "average_reading_score = school_data_complete[\"reading_score\"].mean()\n",
    "average_reading_score"
   ]
  },
  {
   "cell_type": "code",
   "execution_count": null,
   "id": "185500fc",
   "metadata": {},
   "outputs": [],
   "source": [
    "# % passing math (the percentage of students who passed math)\n",
    "passedmath = student_data[student_data.math_score > 70]\n",
    "passedmath[\"math_score\"].count() / totalstudents"
   ]
  },
  {
   "cell_type": "code",
   "execution_count": null,
   "id": "0baf55c9",
   "metadata": {},
   "outputs": [],
   "source": [
    "# % passing reading (the percentage of students who passed reading)\n",
    "passedread = student_data[student_data.reading_score > 70]\n",
    "passedread[\"reading_score\"].count() / totalstudents"
   ]
  },
  {
   "cell_type": "code",
   "execution_count": null,
   "id": "9d7dd5cb",
   "metadata": {},
   "outputs": [],
   "source": [
    "# % overall passing (the percentage of students who passed math AND reading)\n",
    "passedboth = student_data[(student_data[\"math_score\"] > 70) & (student_data[\"reading_score\"] > 70)].count()[\"Student ID\"]\n",
    "passedboth"
   ]
  },
  {
   "cell_type": "code",
   "execution_count": null,
   "id": "d09b9200",
   "metadata": {},
   "outputs": [],
   "source": [
    "# display\n",
    "#Display Highest Performing Schools  \n",
    "\n",
    "Sdf = pd.DataFrame([\n",
    "    {\n",
    "       \"name\": name,\n",
    "      \"total_budget\": total_budget,\n",
    "    \"school_type\" : school_type,\n",
    "    \"per_school_budget\": per_school_budget},\n",
    "    \"average_math_score\" : average_math_score,\n",
    "    \"average_reading_score\" : average_reading_score,\n",
    "    \"passed_math\" : passed_math,\n",
    "    \"passed_read\" : passed_read,\n",
    "    \"passedboth\" : passedboth\n",
    "])\n",
    "Schoolsummarydf\n"
   ]
  },
  {
   "cell_type": "code",
   "execution_count": null,
   "id": "2d8d2ba2",
   "metadata": {},
   "outputs": [],
   "source": [
    "# Lowest-Performing Schools (by % Overall Passing)"
   ]
  },
  {
   "cell_type": "code",
   "execution_count": null,
   "id": "51a24d47",
   "metadata": {},
   "outputs": [],
   "source": [
    "# School name\n",
    "name = school_data[\"school_name\"]\n",
    "name"
   ]
  },
  {
   "cell_type": "code",
   "execution_count": null,
   "id": "bce09617",
   "metadata": {},
   "outputs": [],
   "source": [
    "# School type\n",
    "school_type = school_data[\"type\"]\n",
    "school_type"
   ]
  },
  {
   "cell_type": "code",
   "execution_count": null,
   "id": "5659820d",
   "metadata": {},
   "outputs": [],
   "source": [
    "# Total students\n",
    "student_total = student_data[\"Student ID\"].count()\n",
    "student_total"
   ]
  },
  {
   "cell_type": "code",
   "execution_count": null,
   "id": "ddef5b36",
   "metadata": {},
   "outputs": [],
   "source": [
    "# Total school budget\n",
    "total_budget = school_data[\"budget\"].sum()\n",
    "total_budget"
   ]
  },
  {
   "cell_type": "code",
   "execution_count": null,
   "id": "f60dde67",
   "metadata": {},
   "outputs": [],
   "source": [
    "# Per student budget\n",
    "per_school_budget = school_data_complete.groupby([\"school_name\"]).mean()[\"budget\"]\n",
    "per_school_budget"
   ]
  },
  {
   "cell_type": "code",
   "execution_count": null,
   "id": "de24eb4b",
   "metadata": {},
   "outputs": [],
   "source": [
    "# Average math score\n",
    "per_school_budget = school_data_complete.groupby([\"school_name\"]).mean()[\"budget\"]\n",
    "per_school_budget"
   ]
  },
  {
   "cell_type": "code",
   "execution_count": null,
   "id": "d9212371",
   "metadata": {},
   "outputs": [],
   "source": [
    "# Average reading score\n",
    "average_reading_score = school_data_complete[\"reading_score\"].mean()\n",
    "average_reading_score"
   ]
  },
  {
   "cell_type": "code",
   "execution_count": null,
   "id": "5e28aaba",
   "metadata": {},
   "outputs": [],
   "source": [
    "# % passing math (the percentage of students who passed math)\n",
    "passedmath = student_data[student_data.math_score > 70]\n",
    "passedmath[\"math_score\"].count() / totalstudents"
   ]
  },
  {
   "cell_type": "code",
   "execution_count": null,
   "id": "5da2d6ea",
   "metadata": {},
   "outputs": [],
   "source": [
    "# % passing reading (the percentage of students who passed reading)\n",
    "passedread = student_data[student_data.reading_score > 70]\n",
    "passedread[\"reading_score\"].count() / totalstudents"
   ]
  },
  {
   "cell_type": "code",
   "execution_count": null,
   "id": "ba6161b3",
   "metadata": {},
   "outputs": [],
   "source": [
    "# % overall passing (the percentage of students who passed math AND reading)\n",
    "passedboth = student_data[(student_data[\"math_score\"] > 70) & (student_data[\"reading_score\"] > 70)].count()[\"Student ID\"]\n",
    "passedboth"
   ]
  },
  {
   "cell_type": "code",
   "execution_count": null,
   "id": "e3be1b5e",
   "metadata": {},
   "outputs": [],
   "source": [
    "# display"
   ]
  },
  {
   "cell_type": "code",
   "execution_count": null,
   "id": "b59aea44",
   "metadata": {},
   "outputs": [],
   "source": [
    "# Math Scores by Grade"
   ]
  },
  {
   "cell_type": "code",
   "execution_count": null,
   "id": "bb22569f",
   "metadata": {},
   "outputs": [],
   "source": [
    "#Create a DataFrame that lists the average math score for students of each grade level (9th, 10th, 11th, 12th) at each school."
   ]
  },
  {
   "cell_type": "code",
   "execution_count": null,
   "id": "b92eb0ef",
   "metadata": {},
   "outputs": [],
   "source": [
    "# display "
   ]
  },
  {
   "cell_type": "code",
   "execution_count": null,
   "id": "271e4a0b",
   "metadata": {},
   "outputs": [],
   "source": [
    "#Reading Scores by Grade"
   ]
  },
  {
   "cell_type": "code",
   "execution_count": null,
   "id": "a9c8280d",
   "metadata": {},
   "outputs": [],
   "source": [
    "# Create a DataFrame that lists the average reading score for students of each grade level (9th, 10th, 11th, 12th) at each school.# "
   ]
  },
  {
   "cell_type": "code",
   "execution_count": null,
   "id": "4ae95b46",
   "metadata": {},
   "outputs": [],
   "source": [
    "# display"
   ]
  },
  {
   "cell_type": "code",
   "execution_count": null,
   "id": "6350e03a",
   "metadata": {},
   "outputs": [],
   "source": []
  }
 ],
 "metadata": {
  "kernelspec": {
   "display_name": "Python 3 (ipykernel)",
   "language": "python",
   "name": "python3"
  },
  "language_info": {
   "codemirror_mode": {
    "name": "ipython",
    "version": 3
   },
   "file_extension": ".py",
   "mimetype": "text/x-python",
   "name": "python",
   "nbconvert_exporter": "python",
   "pygments_lexer": "ipython3",
   "version": "3.9.12"
  }
 },
 "nbformat": 4,
 "nbformat_minor": 5
}
